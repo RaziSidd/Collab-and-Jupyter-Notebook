{
  "cells": [
    {
      "cell_type": "markdown",
      "metadata": {
        "id": "view-in-github",
        "colab_type": "text"
      },
      "source": [
        "<a href=\"https://colab.research.google.com/github/RaziSidd/Collab-and-Jupyter-Notebook/blob/main/ImageCompress.ipynb\" target=\"_parent\"><img src=\"https://colab.research.google.com/assets/colab-badge.svg\" alt=\"Open In Colab\"/></a>"
      ]
    },
    {
      "cell_type": "code",
      "execution_count": 1,
      "metadata": {
        "id": "VLeH8tuNP_L_"
      },
      "outputs": [],
      "source": [
        "import numpy as np\n",
        "import pandas as pd\n",
        "import matplotlib.pyplot as plt\n",
        "from sklearn.cluster import KMeans"
      ]
    },
    {
      "cell_type": "code",
      "execution_count": 2,
      "metadata": {
        "id": "57YHDUX_plLQ"
      },
      "outputs": [],
      "source": [
        "def kmeans_numpy(X, n_clusters, max_iters=100):\n",
        "    \"\"\"\n",
        "    Hint:\n",
        "    if implementing using numpy array:\n",
        "    the shape of centroids is (n_clusters x 3), a 2D array\n",
        "    The shape of labels is (for the given sample image) 512 x 512 = 262144 --> a 1D array\n",
        "    \"\"\"\n",
        "    # Initialize cluster centroids randomly\n",
        "    centroids = X[np.random.choice(len(X), n_clusters, replace=False)]\n",
        "    labels = np.zeros(X.shape[0])\n",
        "\n",
        "    for _ in range(max_iters):\n",
        "        for i, row in enumerate(X):\n",
        "          mini_dist_1 = float(\"inf\")\n",
        "          for idx, centriod in enumerate(centroids):\n",
        "            # Calculate the distance from each point to each centroid\n",
        "            distance = np.linalg.norm(row - centriod) #np.sqrt((centriod[0]-row[0])** 2 + (centriod[1]-row[1])**2 + (centriod[2]-row[2])**2)\n",
        "            # Assign each point to the nearest cluster\n",
        "            if mini_dist_1 > distance:\n",
        "              mini_dist_1 = distance\n",
        "              labels[i] = idx\n",
        "\n",
        "        # Create an empty array to store the new centroids\n",
        "        new_centroids = np.zeros((n_clusters, X.shape[1]))\n",
        "\n",
        "        # Loop through each cluster\n",
        "            # Find all data points that belong to the current cluster\n",
        "        cluster_points = pd.DataFrame(X).groupby(by=labels)\n",
        "\n",
        "            # Calculate the mean (average) of all data points in the cluster\n",
        "        cluster_mean = cluster_points.mean()\n",
        "\n",
        "            # Assign the cluster mean as the new centroid\n",
        "        new_centroids = cluster_mean.values\n",
        "        # Check for convergence\n",
        "        if np.all(centroids == new_centroids):\n",
        "          break\n",
        "        else:\n",
        "          centroids = new_centroids\n",
        "\n",
        "    return centroids, labels"
      ]
    },
    {
      "cell_type": "code",
      "execution_count": 3,
      "metadata": {
        "id": "hlRDVja6tFWY"
      },
      "outputs": [],
      "source": [
        "def create_compressed_image(labels, centroids, height, width, channels):\n",
        "\n",
        "    \"\"\"\n",
        "    Hint:\n",
        "    Assign the cluster value to the pixel of that cluster\n",
        "    \"\"\"\n",
        "    # Step 3: Create a compressed image based on cluster centroids\n",
        "    compressed_image = np.zeros((height, width, channels), dtype=np.uint8)\n",
        "\n",
        "    for i in range(0, height):\n",
        "        for j in range(0, width):\n",
        "          position = labels[i*width + j]\n",
        "          compressed_image[i][j] = centroids[int(position)]\n",
        "    return compressed_image"
      ]
    },
    {
      "cell_type": "code",
      "execution_count": null,
      "metadata": {
        "colab": {
          "base_uri": "https://localhost:8080/"
        },
        "id": "vkQrESwytQlx",
        "outputId": "30262f4a-9c52-4165-8344-7195c5a8e8d1"
      },
      "outputs": [
        {
          "output_type": "stream",
          "name": "stdout",
          "text": [
            "PART 1\n"
          ]
        }
      ],
      "source": [
        "import cv2\n",
        "import numpy as np\n",
        "import os\n",
        "import matplotlib.pyplot as plt\n",
        "from sklearn.cluster import KMeans\n",
        "\n",
        "def kmeans_image_compression(image_path, num_clusters):\n",
        "    # Step 1: Load the image\n",
        "    original_image = cv2.imread(image_path)\n",
        "\n",
        "    # Convert the image to RGB color space (if it's not already)\n",
        "    original_image = cv2.cvtColor(original_image, cv2.COLOR_BGR2RGB)\n",
        "\n",
        "    # Get the dimensions of the image\n",
        "    height, width, channels = original_image.shape\n",
        "\n",
        "    # Step 2: Apply K-means clustering using numpy\n",
        "    pixel_values = original_image.reshape(-1, 3)\n",
        "    print(\"PART 1\")\n",
        "    centroids, labels = kmeans_numpy(pixel_values, num_clusters)\n",
        "\n",
        "    # Step 3: Create a compressed image based on cluster centroids\n",
        "    print(\"PART 2\")\n",
        "    compressed_image = create_compressed_image(labels, centroids, height, width, channels)\n",
        "\n",
        "    # Step 4: Save the compressed image\n",
        "    compressed_image_path = \"compressed_image.png\"\n",
        "    cv2.imwrite(compressed_image_path, cv2.cvtColor(compressed_image, cv2.COLOR_RGB2BGR))\n",
        "\n",
        "    # Save the original image in the same format as the compressed one\n",
        "    original_image_path = \"original_image.png\"\n",
        "    cv2.imwrite(original_image_path, cv2.cvtColor(original_image, cv2.COLOR_RGB2BGR))\n",
        "\n",
        "    # Calculate and print the compression ratio\n",
        "    original_size = os.path.getsize(original_image_path)\n",
        "    compressed_size = os.path.getsize(compressed_image_path)\n",
        "    compression_ratio = original_size / compressed_size\n",
        "\n",
        "    print(f\"Original image size: {original_size} bytes\")\n",
        "    print(f\"Compressed image size: {compressed_size} bytes\")\n",
        "    print(f\"Compression ratio: {compression_ratio:.2f}\")\n",
        "    print(\"By increasing the number of clusters, we decrease the value of the compression ratio. \\nThis makes sense as we are increasing the number of colors we want to use in our final compressed image \\nFor example, 2 cluster means 2 colors, so we will have a very compressed image, almost like a 2-tone or grayscale but with the cluster colors \\nBut, 10 clusters means 10 colors, so we will have an image closer to the original, but with less space taken up \\nBy increasing the clusters, we get an image closer to the original, but we also get a compression which is less than with less colors\")\n",
        "    # Show the original and compressed images using matplotlib\n",
        "    plt.figure(figsize=(12, 6))\n",
        "\n",
        "    plt.subplot(1, 2, 1)\n",
        "    plt.imshow(original_image)\n",
        "    plt.title(\"Original Image\")\n",
        "    plt.axis(\"off\")\n",
        "\n",
        "    plt.subplot(1, 2, 2)\n",
        "    plt.imshow(compressed_image)\n",
        "    plt.title(\"Compressed Image\")\n",
        "    plt.axis(\"off\")\n",
        "\n",
        "    plt.show()\n",
        "\n",
        "if __name__ == \"__main__\":\n",
        "    image_path = \"/content/sample_data/test_image.png\"\n",
        "\n",
        "    num_clusters = 5  # Adjust the number of clusters as needed\n",
        "    kmeans_image_compression(image_path, num_clusters)\n"
      ]
    }
  ],
  "metadata": {
    "colab": {
      "provenance": [],
      "include_colab_link": true
    },
    "kernelspec": {
      "display_name": "Python 3 (ipykernel)",
      "language": "python",
      "name": "python3"
    },
    "language_info": {
      "codemirror_mode": {
        "name": "ipython",
        "version": 3
      },
      "file_extension": ".py",
      "mimetype": "text/x-python",
      "name": "python",
      "nbconvert_exporter": "python",
      "pygments_lexer": "ipython3",
      "version": "3.9.12"
    }
  },
  "nbformat": 4,
  "nbformat_minor": 0
}